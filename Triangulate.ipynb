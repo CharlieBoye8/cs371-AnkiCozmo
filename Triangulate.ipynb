{
 "cells": [
  {
   "cell_type": "markdown",
   "metadata": {},
   "source": [
    "# Position Triangulator\n",
    "We opted against using a panorama approach. Instead, we compare the robot's latest images against 72 images gathered in the initial phase. Given a potential pose, this compare the recent image to the one of the 72 images closes to that pose. Instead of comparing these images directly, we pretend as if the images aren't perfectly aligned and thus compare several cropped offset versions of each image to the latest image."
   ]
  },
  {
   "cell_type": "markdown",
   "metadata": {},
   "source": [
    "## Imports\n",
    "We use the following packages in our implementation.\n",
    "- `numpy` arrays allow us to compare the images and get the mean squared error\n",
    "- `cv2` allows us to read in images from files\n",
    "- `math` provides important constants and functions for our error calculations\n",
    "- `random` allows random particle generation\n",
    "- `cozmo` allows us to communicate with the robot. `cozmo.util` helps us to tell the robot some umber of degrees\n",
    "- `matplotlib.pyplot` is used to show the current beliefs of the robot in a histogram\n",
    "- `os` is used for joining file paths\n",
    "- `sys` gives us an integer maxsize as our starting point when looking at differences between images"
   ]
  },
  {
   "cell_type": "code",
   "execution_count": 1,
   "metadata": {},
   "outputs": [],
   "source": [
    "import numpy as np\n",
    "import cv2\n",
    "import math\n",
    "import random\n",
    "import cozmo\n",
    "from cozmo.util import degrees\n",
    "import matplotlib.pyplot as plt\n",
    "import os\n",
    "import sys"
   ]
  },
  {
   "cell_type": "code",
   "execution_count": 2,
   "metadata": {},
   "outputs": [],
   "source": [
    "degree_increment = 5"
   ]
  },
  {
   "cell_type": "code",
   "execution_count": 3,
   "metadata": {},
   "outputs": [],
   "source": [
    "parent_dir = \"/Users/ironi/Documents/Conda/Cozmo\"\n",
    "path = os.path.join(parent_dir, \"Images\")"
   ]
  },
  {
   "cell_type": "code",
   "execution_count": 4,
   "metadata": {},
   "outputs": [],
   "source": [
    "def take_pictures(robot: cozmo.robot.Robot):\n",
    "  # Initial setup, generate repeatable head angle and lift height\n",
    "  robot.say_text(\"Taking pictures\").wait_for_completed()\n",
    "  move_arms = robot.set_lift_height(0)\n",
    "  move_arms.wait_for_completed()\n",
    "  set_head = robot.set_head_angle((cozmo.robot.MAX_HEAD_ANGLE - cozmo.robot.MAX_HEAD_ANGLE) / 3, in_parallel = True)\n",
    "  set_head.wait_for_completed()\n",
    "\n",
    "  # Enabling Cozmo Camera\n",
    "  robot.camera.image_stream_enabled = True\n",
    "\n",
    "  deg_step = 5\n",
    "\n",
    "  # Dictionary to store the first occurrence and size of each cube\n",
    "  cube_info = {} \n",
    "  \n",
    "  # Saves picture of what Cozmo sees every 10 degrees.\n",
    "  for d in range(0, 360, deg_step):\n",
    "    # fileName = \"image\" + str(d) + \".jpeg\"\n",
    " \n",
    "    robot.turn_in_place(degrees(deg_step)).wait_for_completed()\n",
    "    \n",
    "    # latest_image = robot.world.latest_image\n",
    "    # # annotation seems to be important, we have had issues saving images if we don't annotate\n",
    "    # annotated = latest_image.annotate_image()\n",
    "\n",
    "    cube_id = -1\n",
    "\n",
    "    objects = robot.world.visible_objects\n",
    "    for obj in objects:\n",
    "        if('LightCube' in obj.descriptive_name):\n",
    "          size = (obj.last_observed_image_box.width, obj.last_observed_image_box.height)\n",
    "          size = size[0]*size[1]\n",
    "          # print(\"Hello\")\n",
    "          # print(obj.descriptive_name[10])\n",
    "          cube_id = int(obj.descriptive_name[10])\n",
    "          continue\n",
    "\n",
    "    if cube_id > 0:\n",
    "                \n",
    "      # Check if this is the first occurrence of the cube\n",
    "      if cube_id not in cube_info:\n",
    "                    \n",
    "        # Store first occurrence and size of the cube\n",
    "        cube_info[cube_id] = {\n",
    "            'first_occurrence': d,\n",
    "            'size': size\n",
    "        }\n",
    "\n",
    "    # if latest_image is not None:\n",
    "    #   # print(\"image = %s\" % latest_image)\n",
    "    #   converted = annotated.convert()\n",
    "    #   file_path = os.path.join(path, fileName)\n",
    "    #   converted.save(file_path, \"JPEG\", resolution=10)\n",
    "    \n",
    "  print(cube_info)\n",
    "  return cube_info\n",
    "\n"
   ]
  },
  {
   "cell_type": "code",
   "execution_count": 5,
   "metadata": {},
   "outputs": [],
   "source": [
    "def return_to_start(robot: cozmo.robot.Robot):\n",
    "    # Initial setup, generate repeatable head angle and lift height\n",
    "  robot.say_text(\"Taking pictures\").wait_for_completed()\n",
    "  move_arms = robot.set_lift_height(0)\n",
    "  move_arms.wait_for_completed()\n",
    "  set_head = robot.set_head_angle((cozmo.robot.MAX_HEAD_ANGLE - cozmo.robot.MAX_HEAD_ANGLE) / 3, in_parallel = True)\n",
    "  set_head.wait_for_completed()\n",
    "\n",
    "  # Enabling Cozmo Camera\n",
    "  robot.camera.image_stream_enabled = True\n",
    "\n",
    "  deg_step = 5\n",
    "\n",
    "  # Dictionary to store the first occurrence and size of each cube\n",
    "  new_cube_info = {} \n",
    "  \n",
    "  # Saves picture of what Cozmo sees every 10 degrees.\n",
    "  for d in range(0, 360, deg_step):\n",
    "    # fileName = \"image\" + str(d) + \".jpeg\"\n",
    " \n",
    "    robot.turn_in_place(degrees(deg_step)).wait_for_completed()\n",
    "    \n",
    "    # latest_image = robot.world.latest_image\n",
    "    # # annotation seems to be important, we have had issues saving images if we don't annotate\n",
    "    # annotated = latest_image.annotate_image()\n",
    "\n",
    "    cube_id = -1\n",
    "\n",
    "    objects = robot.world.visible_objects\n",
    "    if objects:\n",
    "      for obj in objects:\n",
    "        if('LightCube' in obj.descriptive_name):\n",
    "          size = (obj.last_observed_image_box.width, obj.last_observed_image_box.height)\n",
    "          size = size[0]*size[1]\n",
    "          # print(\"Hello\")\n",
    "          # print(obj.descriptive_name[10])\n",
    "          cube_id = int(obj.descriptive_name[10])\n",
    "          continue\n",
    "\n",
    "    if cube_id > 0:\n",
    "                \n",
    "      # Check if this is the first occurrence of the cube\n",
    "      if cube_id not in new_cube_info:\n",
    "                    \n",
    "        # Store first occurrence and size of the cube\n",
    "        new_cube_info[cube_id] = {\n",
    "            'first_occurrence': d,\n",
    "            'size': size\n",
    "        }\n",
    "\n",
    "    # if latest_image is not None:\n",
    "    #   # print(\"image = %s\" % latest_image)\n",
    "    #   converted = annotated.convert()\n",
    "    #   file_path = os.path.join(path, fileName)\n",
    "    #   converted.save(file_path, \"JPEG\", resolution=10)\n",
    "    \n",
    "  print(new_cube_info)"
   ]
  },
  {
   "cell_type": "code",
   "execution_count": 6,
   "metadata": {},
   "outputs": [
    {
     "name": "stderr",
     "output_type": "stream",
     "text": [
      "2024-05-02 00:04:27,105 cozmo.general INFO     App connection established. sdk_version=1.4.10 cozmoclad_version=3.4.0 app_build_version=00003.00004.00000\n",
      "2024-05-02 00:04:27,108 cozmo.general INFO     Found robot id=1\n",
      "2024-05-02 00:04:27,113 cozmo.general INFO     Connected to iOS device_id=27 serial=00008110-000E71362EC2401E\n",
      "2024-05-02 00:04:27,271 cozmo.general INFO     Robot id=1 serial=45a2a81d initialized OK\n",
      "2024-05-02 00:04:27,292 cozmo.general INFO     Robot delocalized - invalidating poses for all objects\n",
      "2024-05-02 00:05:26,931 cozmo.general INFO     Shutting down connection\n",
      "2024-05-02 00:05:26,932 cozmo.general INFO     iOS device_id=27 disconnected.\n"
     ]
    },
    {
     "name": "stdout",
     "output_type": "stream",
     "text": [
      "{3: {'first_occurrence': 30, 'size': 11066.206319220364}, 1: {'first_occurrence': 215, 'size': 8684.802240167744}, 2: {'first_occurrence': 325, 'size': 34921.43059352785}}\n"
     ]
    }
   ],
   "source": [
    "cube_info = cozmo.run_program(take_pictures)"
   ]
  },
  {
   "cell_type": "code",
   "execution_count": 7,
   "metadata": {},
   "outputs": [
    {
     "data": {
      "text/plain": [
       "''"
      ]
     },
     "execution_count": 7,
     "metadata": {},
     "output_type": "execute_result"
    }
   ],
   "source": [
    "input(\"Press enter after randomly rotating the robot...\")"
   ]
  },
  {
   "cell_type": "code",
   "execution_count": 8,
   "metadata": {},
   "outputs": [],
   "source": [
    "cozmo.run_program(return_to_start)"
   ]
  }
 ],
 "metadata": {
  "kernelspec": {
   "display_name": "cs371-2",
   "language": "python",
   "name": "python3"
  },
  "language_info": {
   "codemirror_mode": {
    "name": "ipython",
    "version": 3
   },
   "file_extension": ".py",
   "mimetype": "text/x-python",
   "name": "python",
   "nbconvert_exporter": "python",
   "pygments_lexer": "ipython3",
   "version": "3.7.5"
  }
 },
 "nbformat": 4,
 "nbformat_minor": 2
}
